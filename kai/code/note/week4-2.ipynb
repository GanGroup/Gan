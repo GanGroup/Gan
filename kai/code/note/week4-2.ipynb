{
 "cells": [
  {
   "cell_type": "code",
   "execution_count": 29,
   "id": "6eb437cd",
   "metadata": {},
   "outputs": [],
   "source": []
  },
  {
   "cell_type": "code",
   "execution_count": 32,
   "id": "8b79a8fb",
   "metadata": {},
   "outputs": [
    {
     "name": "stdout",
     "output_type": "stream",
     "text": [
      "Inverted images and saved successfully.\n"
     ]
    }
   ],
   "source": [
    "# Define the data directory\n",
    "\n",
    "# data_dir = 'data/mnist/'\n",
    "# save_dir = os.path.join(data_dir, 'invert')\n",
    "\n",
    "# # Create directories if they don't exist\n",
    "# if not os.path.exists(data_dir):\n",
    "#     os.makedirs(data_dir)\n",
    "# if not os.path.exists(save_dir):\n",
    "#     os.makedirs(save_dir)\n",
    "\n",
    "# Load MNIST dataset\n",
    "(x_train, y_train), (x_test, y_test) = mnist.load_data()\n",
    "\n",
    "# Normalize images to the range [0, 1] (not [-1, 1] for inversion purposes)\n",
    "x_train = x_train.astype(np.float32) / 255.0\n",
    "x_test = x_test.astype(np.float32) / 255.0\n",
    "\n",
    "# Expand dimensions to match the shape (-1, 28, 28, 1)\n",
    "x_train = np.expand_dims(x_train, axis=-1)\n",
    "x_test = np.expand_dims(x_test, axis=-1)\n",
    "\n",
    "# Invert the images (0 becomes 1, and 1 becomes 0)\n",
    "invert_x_train = 1.0 - x_train\n",
    "invert_x_test = 1.0 - x_test\n",
    "\n",
    "# # Save the inverted images\n",
    "# np.save(os.path.join(save_dir, 'train_images_invert.npy'), invert_x_train)\n",
    "# np.save(os.path.join(save_dir, 'test_images_invert.npy'), invert_x_test)\n",
    "\n",
    "# Convert labels to one-hot encoding\n",
    "y_train_one_hot = tf.keras.utils.to_categorical(y_train, 10)\n",
    "y_test_one_hot = tf.keras.utils.to_categorical(y_test, 10)\n",
    "\n",
    "print(\"Inverted images and saved successfully.\")"
   ]
  },
  {
   "cell_type": "markdown",
   "id": "1212d34e",
   "metadata": {},
   "source": [
    "## Improt requirment library"
   ]
  },
  {
   "cell_type": "code",
   "execution_count": null,
   "id": "35a7399c",
   "metadata": {},
   "outputs": [],
   "source": [
    "import os\n",
    "import numpy as np\n",
    "import tensorflow as tf\n",
    "from tensorflow.keras.datasets import mnist\n",
    "import matplotlib.pyplot as plt"
   ]
  },
  {
   "cell_type": "markdown",
   "id": "63448478",
   "metadata": {},
   "source": [
    "## Load data"
   ]
  },
  {
   "cell_type": "code",
   "execution_count": 34,
   "id": "ee79da4b",
   "metadata": {},
   "outputs": [],
   "source": [
    "# Load MNIST dataset\n",
    "(x_train, y_train), (x_test, y_test) = mnist.load_data()\n",
    "\n",
    "# Normalize images to the range [0, 1] (not [-1, 1] for inversion purposes)\n",
    "x_train = x_train.astype(np.float32) / 255.0\n",
    "x_test = x_test.astype(np.float32) / 255.0\n",
    "\n",
    "# Expand dimensions to match the shape (-1, 28, 28, 1)\n",
    "x_train = np.expand_dims(x_train, axis=-1)\n",
    "x_test = np.expand_dims(x_test, axis=-1)\n",
    "\n",
    "# Invert the images (0 becomes 1, and 1 becomes 0)\n",
    "invert_x_train = 1.0 - x_train\n",
    "invert_x_test = 1.0 - x_test\n",
    "\n",
    "# Convert labels to one-hot encoding\n",
    "y_train_one_hot = tf.keras.utils.to_categorical(y_train, 10)\n",
    "y_test_one_hot = tf.keras.utils.to_categorical(y_test, 10)"
   ]
  },
  {
   "cell_type": "markdown",
   "id": "b79cc37a",
   "metadata": {},
   "source": [
    "### Plot training data and invert training data"
   ]
  },
  {
   "cell_type": "code",
   "execution_count": 36,
   "id": "f136aefc",
   "metadata": {},
   "outputs": [
    {
     "data": {
      "image/png": "[encoded data removed]",
      "text/plain": [
       "<Figure size 2000x400 with 20 Axes>"
      ]
     },
     "metadata": {},
     "output_type": "display_data"
    }
   ],
   "source": [
    "# Plot 10 images from x_train and their corresponding labels from y_train\n",
    "plt.figure(figsize=(20, 4))\n",
    "for i in range(10):\n",
    "    # Original images\n",
    "    plt.subplot(2, 10, i+1)\n",
    "    plt.imshow(x_train[i].reshape(28, 28), cmap='gray')\n",
    "    plt.title(y_train[i])\n",
    "    plt.axis('off')\n",
    "    \n",
    "    # Inverted images\n",
    "    plt.subplot(2, 10, 10 + i + 1)\n",
    "    plt.imshow(invert_x_train[i].reshape(28, 28), cmap='gray')\n",
    "    plt.title(y_train[i])\n",
    "    plt.axis('off')\n",
    "\n",
    "plt.show()"
   ]
  },
  {
   "cell_type": "markdown",
   "id": "eb82a327",
   "metadata": {},
   "source": [
    "## Implementation"
   ]
  },
  {
   "cell_type": "markdown",
   "id": "ae003bfc",
   "metadata": {},
   "source": [
    "参数重用 (Reuse)：\n",
    "\n",
    "重用的是子模型或模块。这意味着整个子模型（包括其所有层和参数）在不同的地方被多次使用。\n",
    "这种方法通常用于需要在多个位置使用相同结构和权重的场景，如在不同分支中重复使用相同的子网络。\n",
    "参数共享 (Parameter Sharing)：\n",
    "\n",
    "共享的是模型中的层。这意味着特定的层（包括其权重）在不同的模型或模型的不同部分之间共享。\n",
    "这种方法用于在同一个模型的不同部分或不同模型之间共享权重，以减少参数数量和提高训练效率。"
   ]
  },
  {
   "cell_type": "code",
   "execution_count": null,
   "id": "79f8c3c5",
   "metadata": {},
   "outputs": [],
   "source": [
    "import tensorflow as tf\n",
    "from tensorflow.keras.layers import Input, Dense, LeakyReLU, Reshape, Conv2DTranspose, BatchNormalization\n",
    "from tensorflow.keras.models import Model\n",
    "\n",
    "# 定义一个简单的子模型，可以在不同地方重用\n",
    "def build_sub_model(gfc_dim, gf_dim, s4):\n",
    "    inputs = Input(shape=(100,))\n",
    "    h0 = Dense(gfc_dim)(inputs)\n",
    "    h0 = BatchNormalization()(h0)\n",
    "    h0 = LeakyReLU()(h0)\n",
    "\n",
    "    h1 = Dense(gf_dim * 2 * s4 * s4)(h0)\n",
    "    h1 = BatchNormalization()(h1)\n",
    "    h1 = LeakyReLU()(h1)\n",
    "    h1 = Reshape((s4, s4, gf_dim * 2))(h1)\n",
    "    \n",
    "    return Model(inputs, h1, name='sub_model')\n",
    "\n",
    "# 使用子模型重用\n",
    "def generator_with_reuse(z_dim, output_size, gfc_dim, gf_dim, c_dim, batch_size, name='G'):\n",
    "    s = output_size\n",
    "    s2, s4 = int(s / 2), int(s / 4)\n",
    "\n",
    "    # 定义主模型输入\n",
    "    z = Input(shape=(z_dim,))\n",
    "    \n",
    "    # 重用子模型\n",
    "    sub_model = build_sub_model(gfc_dim, gf_dim, s4)\n",
    "    h1 = sub_model(z)\n",
    "    \n",
    "    h2 = Conv2DTranspose(gf_dim * 2, kernel_size=4, strides=2, padding='same')(h1)\n",
    "    h2 = BatchNormalization()(h2)\n",
    "    h2 = LeakyReLU()(h2)\n",
    "    \n",
    "    # 输出层\n",
    "    output = Conv2DTranspose(c_dim, kernel_size=4, strides=2, padding='same')(h2)\n",
    "    output = tf.keras.activations.sigmoid(output)\n",
    "    \n",
    "    # 创建模型\n",
    "    model = Model(inputs=z, outputs=output, name=name)\n",
    "    \n",
    "    return model\n",
    "\n",
    "# 示例使用\n",
    "z_dim = 100\n",
    "output_size = 64\n",
    "gfc_dim = 1024\n",
    "gf_dim = 64\n",
    "c_dim = 3\n",
    "batch_size = 64\n",
    "\n",
    "gen_model1 = generator_with_reuse(z_dim, output_size, gfc_dim, gf_dim, c_dim, batch_size, name='G1')\n",
    "gen_model2 = generator_with_reuse(z_dim, output_size, gfc_dim, gf_dim, c_dim, batch_size, name='G2')\n",
    "gen_model1.summary()\n",
    "gen_model2.summary()\n"
   ]
  },
  {
   "cell_type": "code",
   "execution_count": null,
   "id": "e413a541",
   "metadata": {},
   "outputs": [],
   "source": [
    "import tensorflow as tf\n",
    "from tensorflow.keras.layers import Input, Dense, LeakyReLU, Reshape, Conv2DTranspose, BatchNormalization\n",
    "from tensorflow.keras.models import Model\n",
    "\n",
    "# 全局定义共享层\n",
    "shared_dense1 = Dense(1024)\n",
    "shared_dense2 = Dense(64 * 2 * (64 // 4) * (64 // 4))\n",
    "shared_bn0 = BatchNormalization()\n",
    "shared_bn1 = BatchNormalization()\n",
    "shared_bn2 = BatchNormalization()\n",
    "shared_conv2d_t1 = Conv2DTranspose(64 * 2, kernel_size=4, strides=2, padding='same')\n",
    "shared_conv2d_t2 = Conv2DTranspose(3, kernel_size=4, strides=2, padding='same')\n",
    "\n",
    "def generator_with_sharing(z_dim, output_size, gfc_dim, gf_dim, c_dim, batch_size, name='G'):\n",
    "    s = output_size\n",
    "    s2, s4 = int(s / 2), int(s / 4)\n",
    "\n",
    "    # 输入层\n",
    "    z = Input(shape=(z_dim,))\n",
    "\n",
    "    # 共享层\n",
    "    h0 = shared_dense1(z)\n",
    "    h0 = shared_bn0(h0, training=True)\n",
    "    h0 = LeakyReLU()(h0)\n",
    "\n",
    "    h1 = shared_dense2(h0)\n",
    "    h1 = shared_bn1(h1, training=True)\n",
    "    h1 = LeakyReLU()(h1)\n",
    "    h1 = Reshape((s4, s4, gf_dim * 2))(h1)\n",
    "\n",
    "    h2 = shared_conv2d_t1(h1)\n",
    "    h2 = shared_bn2(h2, training=True)\n",
    "    h2 = LeakyReLU()(h2)\n",
    "\n",
    "    # 输出层\n",
    "    output = shared_conv2d_t2(h2)\n",
    "    output = tf.keras.activations.sigmoid(output)\n",
    "\n",
    "    # 创建模型\n",
    "    model = Model(inputs=z, outputs=output, name=name)\n",
    "\n",
    "    return model\n",
    "\n",
    "# 示例使用\n",
    "z_dim = 100\n",
    "output_size = 64\n",
    "gfc_dim = 1024\n",
    "gf_dim = 64\n",
    "c_dim = 3\n",
    "batch_size = 64\n",
    "\n",
    "gen_model1 = generator_with_sharing(z_dim, output_size, gfc_dim, gf_dim, c_dim, batch_size, name='G1')\n",
    "gen_model2 = generator_with_sharing(z_dim, output_size, gfc_dim, gf_dim, c_dim, batch_size, name='G2')\n",
    "gen_model1.summary()\n",
    "gen_model2.summary()\n"
   ]
  },
  {
   "cell_type": "code",
   "execution_count": null,
   "id": "985bb780",
   "metadata": {},
   "outputs": [],
   "source": []
  },
  {
   "cell_type": "code",
   "execution_count": null,
   "id": "dee65318",
   "metadata": {},
   "outputs": [],
   "source": [
    "def prelu(x, name):\n",
    "    alpha = tf.Variable(tf.zeros(x.shape[-1]), name=name + '_alpha')\n",
    "    return tf.maximum(0.0, x) + alpha * tf.minimum(0.0, x)"
   ]
  },
  {
   "cell_type": "markdown",
   "id": "0b2e5b54",
   "metadata": {},
   "source": [
    "PReLU(x)=max(0,x)+α⋅min(0,x)\n",
    "\n",
    "it is a relu active function with parameter term"
   ]
  },
  {
   "cell_type": "markdown",
   "id": "703ccf41",
   "metadata": {},
   "source": [
    "### Generator"
   ]
  },
  {
   "cell_type": "code",
   "execution_count": 52,
   "id": "278945cd",
   "metadata": {},
   "outputs": [],
   "source": [
    "import tensorflow as tf\n",
    "from tensorflow.keras import layers, Model\n",
    "\n",
    "\n",
    "# share the weight\n",
    "\n",
    "g_h0 = layers.Dense(gfc_dim, name='g_h0_lin')\n",
    "g_h0 = layers.BatchNormalization()\n",
    "\n",
    "g_h1 = layers.Dense(gf_dim * 2 * s4 * s4, name='g_h1_lin')\n",
    "g_h1 = layers.BatchNormalization()\n",
    "\n",
    "g_h2 = layers.Conv2DTranspose(gf_dim * 2, kernel_size=4, strides=2, padding='same', name='g_h2')\n",
    "g_h2 = layers.BatchNormalization()\n",
    "\n",
    "\n",
    "def build_generator(z_dim, output_size, gf_dim, gfc_dim, branch):\n",
    "    def prelu(x, name):\n",
    "        alpha = tf.Variable(tf.zeros(x.shape[-1]), name=name+'_alpha')\n",
    "        return tf.maximum(alpha * x, x)\n",
    "    \n",
    "    s2, s4 = int(output_size / 2), int(output_size / 4)\n",
    "    inputs = layers.Input(shape=(z_dim,))\n",
    "    \n",
    "    h0 = g_h0(inputs)\n",
    "    h0 = g_h0(h0)\n",
    "    h0 = prelu(h0, name='g_h0_prelu')\n",
    "\n",
    "    h1 = g_h1(h0)\n",
    "    h1 = g_h1(h1)\n",
    "    h1 = prelu(h1, name='g_h1_prelu')\n",
    "    h1 = layers.Reshape((s4, s4, gf_dim * 2))(h1)\n",
    "\n",
    "    h2 = g_h2(h1)\n",
    "    h2 = g_h2(h2)\n",
    "    h2 = prelu(h2, name='g_h2_prelu')\n",
    "\n",
    "    h3 = layers.Conv2DTranspose(1, kernel_size=4, strides=2, padding='same', name=f'g{branch}_h3')(h2)\n",
    "    output = tf.nn.sigmoid(h3)\n",
    "\n",
    "    model = Model(inputs, output)\n",
    "    return model, model(inputs)"
   ]
  },
  {
   "cell_type": "markdown",
   "id": "a2543173",
   "metadata": {},
   "source": [
    "### Discrminator"
   ]
  },
  {
   "cell_type": "code",
   "execution_count": 59,
   "id": "5b781beb",
   "metadata": {},
   "outputs": [],
   "source": [
    "import tensorflow as tf\n",
    "from tensorflow.keras import layers, Model\n",
    "\n",
    "def build_discriminator(input_shape, df_dim, dfc_dim, branch):\n",
    "    def prelu(x, name):\n",
    "        alpha = tf.Variable(tf.zeros(x.shape[-1]), name=name+'_alpha')\n",
    "        return tf.maximum(alpha * x, x)\n",
    "    \n",
    "    inputs = layers.Input(shape=input_shape)\n",
    "    h0 = layers.Conv2D(df_dim, kernel_size=4, strides=2, padding='same', name=f'd{branch}_h0_conv')(inputs)\n",
    "    h0 = prelu(h0, name=f'd{branch}_h0_prelu')\n",
    "\n",
    "    h1 = layers.Conv2D(df_dim, kernel_size=4, strides=2, padding='same', name=f'd{branch}_h1_conv')(h0)\n",
    "    h1 = layers.BatchNormalization(axis=-1)(h1)  # BatchNormalization over the channels axis\n",
    "    h1 = prelu(h1, name=f'd{branch}_h1_prelu')\n",
    "    h1 = layers.Flatten()(h1)\n",
    "\n",
    "    h2 = layers.Dense(dfc_dim, name=f'd{branch}_h2_lin')(h1)\n",
    "    h2 = layers.BatchNormalization()(h2)  # Dense layer, axis default (last axis) is fine\n",
    "    h2 = prelu(h2, name=f'd{branch}_h2_prelu')\n",
    "\n",
    "    h3 = layers.Dense(1, name=f'd{branch}_h3_lin')(h2)\n",
    "\n",
    "    model = Model(inputs, tf.nn.sigmoid(h3))\n",
    "    return model, model(inputs), h3"
   ]
  },
  {
   "cell_type": "markdown",
   "id": "2835b186",
   "metadata": {},
   "source": [
    "### Build model"
   ]
  },
  {
   "cell_type": "code",
   "execution_count": 55,
   "id": "8a76c022",
   "metadata": {},
   "outputs": [],
   "source": [
    "z_dim = 100\n",
    "gf_dim = 64\n",
    "df_dim = 64\n",
    "gfc_dim = 1024\n",
    "dfc_dim = 1024\n",
    "c_dim = 3"
   ]
  },
  {
   "cell_type": "code",
   "execution_count": 42,
   "id": "e75a1bc1",
   "metadata": {},
   "outputs": [],
   "source": [
    "epoch = 25\n",
    "learning_rate = 0.0002\n",
    "beta1 = 0.5\n",
    "train_size = np.inf\n",
    "batch_size = 128\n",
    "output_size = 64"
   ]
  },
  {
   "cell_type": "code",
   "execution_count": 43,
   "id": "624bdfe6",
   "metadata": {},
   "outputs": [],
   "source": [
    "# Shuffle datasets\n",
    "# data_X1 is the original image\n",
    "# data_X2 is the black-white image\n",
    "idx = np.arange(len(y_train_one_hot))\n",
    "np.random.shuffle(idx)\n",
    "data_X1, data_y1 = x_train[idx], y_train_one_hot[idx]\n",
    "np.random.shuffle(idx)\n",
    "data_X2, data_y2 = invert_x_train[idx], y_train_one_hot[idx]"
   ]
  },
  {
   "cell_type": "code",
   "execution_count": 47,
   "id": "0f176aad",
   "metadata": {},
   "outputs": [],
   "source": [
    "# sample noise\n",
    "sample_z = np.random.normal(size=(batch_size , z_dim))\n",
    "sample_images1 = data_X1[0:batch_size]\n",
    "sample_images2 = data_X2[0:batch_size]\n",
    "sample_labels1 = data_y1[0:batch_size]\n",
    "sample_labels2 = data_y2[0:batch_size]"
   ]
  },
  {
   "cell_type": "code",
   "execution_count": 49,
   "id": "fce1a4d6",
   "metadata": {},
   "outputs": [
    {
     "data": {
      "text/plain": [
       "(128, 28, 28, 1)"
      ]
     },
     "execution_count": 49,
     "metadata": {},
     "output_type": "execute_result"
    }
   ],
   "source": [
    "sample_images1.shape"
   ]
  },
  {
   "cell_type": "code",
   "execution_count": null,
   "id": "56c3a690",
   "metadata": {},
   "outputs": [],
   "source": []
  },
  {
   "cell_type": "code",
   "execution_count": null,
   "id": "e2175111",
   "metadata": {},
   "outputs": [],
   "source": []
  },
  {
   "cell_type": "code",
   "execution_count": null,
   "id": "b794e84d",
   "metadata": {},
   "outputs": [],
   "source": []
  },
  {
   "cell_type": "code",
   "execution_count": 53,
   "id": "01480f82",
   "metadata": {},
   "outputs": [],
   "source": [
    "G1, G1_model = build_generator(z_dim, output_size, gf_dim, gfc_dim, '1')"
   ]
  },
  {
   "cell_type": "code",
   "execution_count": 57,
   "id": "65e68e82",
   "metadata": {},
   "outputs": [],
   "source": [
    "G2, G2_model = build_generator(z_dim, output_size, gf_dim, gfc_dim, '2')"
   ]
  },
  {
   "cell_type": "code",
   "execution_count": 60,
   "id": "4e70542d",
   "metadata": {},
   "outputs": [],
   "source": [
    "D1, D1_logits, D1_h3 = build_discriminator([output_size, output_size, c_dim], df_dim, dfc_dim, '1')"
   ]
  },
  {
   "cell_type": "code",
   "execution_count": 61,
   "id": "b93348f1",
   "metadata": {},
   "outputs": [],
   "source": [
    "D1, D1_logits, D1_h3 = build_discriminator([output_size, output_size, c_dim], df_dim, dfc_dim, '1')"
   ]
  },
  {
   "cell_type": "code",
   "execution_count": 16,
   "id": "e9ba646e",
   "metadata": {},
   "outputs": [
    {
     "ename": "AttributeError",
     "evalue": "'dict' object has no attribute 'dataset_name'",
     "output_type": "error",
     "traceback": [
      "\u001b[0;31m---------------------------------------------------------------------------\u001b[0m",
      "\u001b[0;31mAttributeError\u001b[0m                            Traceback (most recent call last)",
      "Cell \u001b[0;32mIn[16], line 199\u001b[0m\n\u001b[1;32m    196\u001b[0m     train(config)\n\u001b[1;32m    198\u001b[0m \u001b[38;5;28;01mif\u001b[39;00m \u001b[38;5;18m__name__\u001b[39m \u001b[38;5;241m==\u001b[39m \u001b[38;5;124m'\u001b[39m\u001b[38;5;124m__main__\u001b[39m\u001b[38;5;124m'\u001b[39m:\n\u001b[0;32m--> 199\u001b[0m     \u001b[43mmain\u001b[49m\u001b[43m(\u001b[49m\u001b[43m)\u001b[49m\n",
      "Cell \u001b[0;32mIn[16], line 196\u001b[0m, in \u001b[0;36mmain\u001b[0;34m()\u001b[0m\n\u001b[1;32m    193\u001b[0m \u001b[38;5;28;01mif\u001b[39;00m \u001b[38;5;129;01mnot\u001b[39;00m os\u001b[38;5;241m.\u001b[39mpath\u001b[38;5;241m.\u001b[39mexists(config[\u001b[38;5;124m'\u001b[39m\u001b[38;5;124msample_dir\u001b[39m\u001b[38;5;124m'\u001b[39m]):\n\u001b[1;32m    194\u001b[0m     os\u001b[38;5;241m.\u001b[39mmakedirs(config[\u001b[38;5;124m'\u001b[39m\u001b[38;5;124msample_dir\u001b[39m\u001b[38;5;124m'\u001b[39m])\n\u001b[0;32m--> 196\u001b[0m \u001b[43mtrain\u001b[49m\u001b[43m(\u001b[49m\u001b[43mconfig\u001b[49m\u001b[43m)\u001b[49m\n",
      "Cell \u001b[0;32mIn[16], line 100\u001b[0m, in \u001b[0;36mtrain\u001b[0;34m(config)\u001b[0m\n\u001b[1;32m     98\u001b[0m \u001b[38;5;28;01mdef\u001b[39;00m \u001b[38;5;21mtrain\u001b[39m(config):\n\u001b[1;32m     99\u001b[0m     \u001b[38;5;66;03m# Load datasets\u001b[39;00m\n\u001b[0;32m--> 100\u001b[0m     data_X1, data_y \u001b[38;5;241m=\u001b[39m load_mnist(\u001b[43mconfig\u001b[49m\u001b[38;5;241;43m.\u001b[39;49m\u001b[43mdataset_name\u001b[49m)\n\u001b[1;32m    101\u001b[0m     data_X2 \u001b[38;5;241m=\u001b[39m load_invert_mnist(config\u001b[38;5;241m.\u001b[39mdataset_name)\n\u001b[1;32m    103\u001b[0m     \u001b[38;5;66;03m# Shuffle datasets\u001b[39;00m\n",
      "\u001b[0;31mAttributeError\u001b[0m: 'dict' object has no attribute 'dataset_name'"
     ]
    }
   ],
   "source": [
    "import os\n",
    "import time\n",
    "import numpy as np\n",
    "from glob import glob\n",
    "import tensorflow as tf\n",
    "from tensorflow.keras import layers, Model\n",
    "\n",
    "# from ops import *\n",
    "# from utils import *\n",
    "\n",
    "\n",
    "\n",
    "\n",
    "def load_mnist(dataset_name):\n",
    "    data_dir = os.path.join(\"./data\", dataset_name)\n",
    "\n",
    "    fd = open(os.path.join(data_dir, 'train-images-idx3-ubyte'))\n",
    "    loaded = np.fromfile(file=fd, dtype=np.uint8)\n",
    "    trX = loaded[16:].reshape((60000, 28, 28, 1)).astype(np.float)\n",
    "\n",
    "    fd = open(os.path.join(data_dir, 'train-labels-idx1-ubyte'))\n",
    "    loaded = np.fromfile(file=fd, dtype=np.uint8)\n",
    "    trY = loaded[8:].reshape((60000)).astype(np.float)\n",
    "\n",
    "    fd = open(os.path.join(data_dir, 't10k-images-idx3-ubyte'))\n",
    "    loaded = np.fromfile(file=fd, dtype=np.uint8)\n",
    "    teX = loaded[16:].reshape((10000, 28, 28, 1)).astype(np.float)\n",
    "\n",
    "    fd = open(os.path.join(data_dir, 't10k-labels-idx1-ubyte'))\n",
    "    loaded = np.fromfile(file=fd, dtype=np.uint8)\n",
    "    teY = loaded[8:].reshape((10000)).astype(np.float)\n",
    "\n",
    "    X = np.concatenate((trX, teX), axis=0)\n",
    "    y = np.concatenate((trY, teY), axis=0)\n",
    "\n",
    "    y_vec = np.zeros((len(y), 10), dtype=np.float)\n",
    "    for i, label in enumerate(y):\n",
    "        y_vec[i, int(y[i])] = 1.0\n",
    "\n",
    "    return X / 255., y_vec\n",
    "\n",
    "def load_invert_mnist(dataset_name):\n",
    "    data_dir = os.path.join(os.path.join(\"./data\", dataset_name, 'invert'))\n",
    "\n",
    "    trX = np.load(os.path.join(data_dir, 'train-images-idx3-ubyte.npy'))\n",
    "    teX = np.load(os.path.join(data_dir, 't10k-images-idx3-ubyte.npy'))\n",
    "\n",
    "    X = np.concatenate((trX, teX), axis=0)\n",
    "    return X / 255.\n",
    "\n",
    "def train(config):\n",
    "    # Load datasets\n",
    "    data_X1, data_y = load_mnist(config.dataset_name)\n",
    "    data_X2 = load_invert_mnist(config.dataset_name)\n",
    "\n",
    "    # Shuffle datasets\n",
    "    idx = np.arange(len(data_y))\n",
    "    np.random.shuffle(idx)\n",
    "    data_X1, data_y1 = data_X1[idx], data_y[idx]\n",
    "    np.random.shuffle(idx)\n",
    "    data_X2, data_y2 = data_X2[idx], data_y[idx]\n",
    "\n",
    "    # Initialize models and optimizers\n",
    "    g_bn0, g_bn1, g_bn2 = layers.BatchNormalization(), layers.BatchNormalization(), layers.BatchNormalization()\n",
    "    d1_bn1, d2_bn1, d_bn2 = layers.BatchNormalization(), layers.BatchNormalization(), layers.BatchNormalization()\n",
    "\n",
    "    G1, G1_model = build_generator(config.z_dim, config.output_size, config.gf_dim, config.gfc_dim, '1', g_bn0, g_bn1, g_bn2)\n",
    "    G2, G2_model = build_generator(config.z_dim, config.output_size, config.gf_dim, config.gfc_dim, '2', g_bn0, g_bn1, g_bn2)\n",
    "    D1, D1_logits, D1_h3 = build_discriminator([config.output_size, config.output_size, config.c_dim], config.df_dim, config.dfc_dim, '1', d1_bn1, d_bn2)\n",
    "    D2, D2_logits, D2_h3 = build_discriminator([config.output_size, config.output_size, config.c_dim], config.df_dim, config.dfc_dim, '2', d2_bn1, d_bn2)\n",
    "\n",
    "    d_optim = tf.keras.optimizers.Adam(config.learning_rate, beta_1=config.beta1)\n",
    "    g_optim = tf.keras.optimizers.Adam(config.learning_rate, beta_1=config.beta1)\n",
    "\n",
    "    @tf.function\n",
    "    def compute_loss(d_real_logits, d_fake_logits):\n",
    "        d_loss_real = tf.reduce_mean(tf.nn.sigmoid_cross_entropy_with_logits(logits=d_real_logits, labels=tf.ones_like(d_real_logits) * 0.9))\n",
    "        d_loss_fake = tf.reduce_mean(tf.nn.sigmoid_cross_entropy_with_logits(logits=d_fake_logits, labels=tf.ones_like(d_fake_logits) * 0.1))\n",
    "        g_loss = tf.reduce_mean(tf.nn.sigmoid_cross_entropy_with_logits(logits=d_fake_logits, labels=tf.ones_like(d_fake_logits) * 0.9))\n",
    "        return d_loss_real + d_loss_fake, g_loss\n",
    "\n",
    "    sample_z = np.random.normal(size=(config.batch_size, config.z_dim))\n",
    "    sample_images1 = data_X1[:config.batch_size]\n",
    "    sample_images2 = data_X2[:config.batch_size]\n",
    "    sample_labels1 = data_y1[:config.batch_size]\n",
    "    sample_labels2 = data_y2[:config.batch_size]\n",
    "\n",
    "    counter = 1\n",
    "    start_time = time.time()\n",
    "\n",
    "    for epoch in range(config.epoch):\n",
    "        batch_idxs = min(len(data_X1), config.train_size) // config.batch_size\n",
    "\n",
    "        for idx in range(batch_idxs):\n",
    "            batch_images1 = data_X1[idx*config.batch_size:(idx+1)*config.batch_size]\n",
    "            batch_images2 = data_X2[idx*config.batch_size:(idx+1)*config.batch_size]\n",
    "            batch_labels1 = data_y1[idx*config.batch_size:(idx+1)*config.batch_size]\n",
    "            batch_labels2 = data_y2[idx*config.batch_size:(idx+1)*config.batch_size]\n",
    "            batch_z = np.random.normal(size=[config.batch_size, config.z_dim]).astype(np.float32)\n",
    "\n",
    "            with tf.GradientTape() as d_tape, tf.GradientTape() as g_tape:\n",
    "                D1_real_logits, D1_real_h3 = D1(batch_images1)\n",
    "                D2_real_logits, D2_real_h3 = D2(batch_images2)\n",
    "                G1_fake_images = G1(batch_z)\n",
    "                G2_fake_images = G2(batch_z)\n",
    "                D1_fake_logits, D1_fake_h3 = D1(G1_fake_images)\n",
    "                D2_fake_logits, D2_fake_h3 = D2(G2_fake_images)\n",
    "\n",
    "                d_loss, g_loss = compute_loss(D1_real_logits, D1_fake_logits)\n",
    "                d_loss2, g_loss2 = compute_loss(D2_real_logits, D2_fake_logits)\n",
    "\n",
    "            d_gradients = d_tape.gradient(d_loss + d_loss2, D1.trainable_variables + D2.trainable_variables)\n",
    "            g_gradients = g_tape.gradient(g_loss + g_loss2, G1.trainable_variables + G2.trainable_variables)\n",
    "\n",
    "            d_optim.apply_gradients(zip(d_gradients, D1.trainable_variables + D2.trainable_variables))\n",
    "            g_optim.apply_gradients(zip(g_gradients, G1.trainable_variables + G2.trainable_variables))\n",
    "\n",
    "            errD = (d_loss + d_loss2).numpy()\n",
    "            errG = (g_loss + g_loss2).numpy()\n",
    "            counter += 1\n",
    "            print(f\"Epoch: [{epoch}] [{idx}/{batch_idxs}] time: {time.time() - start_time}, d_loss: {errD:.8f}, g_loss: {errG:.8f}\")\n",
    "\n",
    "def evaluate():\n",
    "    pass\n",
    "\n",
    "def main():\n",
    "    config = {\n",
    "        'epoch': 25,\n",
    "        'learning_rate': 0.0002,\n",
    "        'beta1': 0.5,\n",
    "        'train_size': np.inf,\n",
    "        'batch_size': 128,\n",
    "        'output_size': 64,\n",
    "        'c_dim': 3,\n",
    "        'dataset_name': 'mnist',\n",
    "        'checkpoint_dir': 'checkpoint',\n",
    "        'sample_dir': 'samples',\n",
    "        'z_dim': 100,\n",
    "        'gf_dim': 64,\n",
    "        'df_dim': 64,\n",
    "        'gfc_dim': 1024,\n",
    "        'dfc_dim': 1024\n",
    "    }\n",
    "    if not os.path.exists(config['checkpoint_dir']):\n",
    "        os.makedirs(config['checkpoint_dir'])\n",
    "    if not os.path.exists(config['sample_dir']):\n",
    "        os.makedirs(config['sample_dir'])\n",
    "    \n",
    "    train(config)\n",
    "\n",
    "if __name__ == '__main__':\n",
    "    main()\n"
   ]
  },
  {
   "cell_type": "code",
   "execution_count": null,
   "id": "81efbb02",
   "metadata": {},
   "outputs": [],
   "source": []
  },
  {
   "cell_type": "code",
   "execution_count": null,
   "id": "4c7cb13d",
   "metadata": {},
   "outputs": [],
   "source": []
  }
 ],
 "metadata": {
  "kernelspec": {
   "display_name": "tensorflow",
   "language": "python",
   "name": "tensorflow"
  },
  "language_info": {
   "codemirror_mode": {
    "name": "ipython",
    "version": 3
   },
   "file_extension": ".py",
   "mimetype": "text/x-python",
   "name": "python",
   "nbconvert_exporter": "python",
   "pygments_lexer": "ipython3",
   "version": "3.11.2"
  },
  "toc": {
   "base_numbering": 1,
   "nav_menu": {},
   "number_sections": true,
   "sideBar": true,
   "skip_h1_title": false,
   "title_cell": "Table of Contents",
   "title_sidebar": "Contents",
   "toc_cell": false,
   "toc_position": {},
   "toc_section_display": true,
   "toc_window_display": false
  }
 },
 "nbformat": 4,
 "nbformat_minor": 5
}
