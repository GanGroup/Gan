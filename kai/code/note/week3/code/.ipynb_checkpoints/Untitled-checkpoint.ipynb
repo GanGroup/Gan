{
 "cells": [
  {
   "cell_type": "code",
   "execution_count": null,
   "id": "8f35812e",
   "metadata": {},
   "outputs": [],
   "source": [
    "import tensorflow as tf\n",
    "from tensorflow.keras import layers"
   ]
  },
  {
   "cell_type": "code",
   "execution_count": 5,
   "id": "62773c8f",
   "metadata": {
    "scrolled": true
   },
   "outputs": [],
   "source": [
    "# Pixel normalization\n",
    "def pixel_norm(x, epsilon=1e-8):\n",
    "    return x * tf.math.rsqrt(tf.reduce_mean(tf.square(x), axis=-1, keepdims=True) + epsilon)\n",
    "\n",
    "# Noise addition\n",
    "def add_noise(x, noise=None):\n",
    "    if noise is None:\n",
    "        noise = tf.random.normal(tf.shape(x))\n",
    "    return x + noise\n",
    "\n",
    "# Adaptive Instance Normalization\n",
    "def adaptive_instance_norm(x, style):\n",
    "    mean, var = tf.nn.moments(x, axes=[1, 2], keepdims=True)\n",
    "    std = tf.sqrt(var + 1e-8)\n",
    "    return (x - mean) / std * style[:, :x.shape[-1]] + style[:, x.shape[-1]:]\n",
    "\n",
    "# Style modulation\n",
    "def style_mod(x, style, channels):\n",
    "    style_dense = layers.Dense(channels * 2)(style)\n",
    "    return adaptive_instance_norm(x, style_dense)\n",
    "\n",
    "# Generator model\n",
    "def build_generator(input_shape=(512,), num_style_features=512):\n",
    "    z = layers.Input(shape=input_shape)\n",
    "    noise = layers.Input(shape=(4, 4, 1))\n",
    "    style = layers.Dense(num_style_features)(z)\n",
    "    style = pixel_norm(style)\n",
    "    x = layers.Dense(4 * 4 * 512)(z)\n",
    "    x = tf.reshape(x, [-1, 4, 4, 512])\n",
    "    x = pixel_norm(x)\n",
    "    x = add_noise(x, noise)\n",
    "    x = layers.Conv2DTranspose(512, 4, strides=2, padding='same')(x)\n",
    "    x = style_mod(x, style, 512)\n",
    "    x = tf.nn.leaky_relu(x)\n",
    "    model = tf.keras.Model(inputs=[z, noise], outputs=x)\n",
    "    return model"
   ]
  },
  {
   "cell_type": "code",
   "execution_count": 6,
   "id": "ee6c2cd4",
   "metadata": {},
   "outputs": [],
   "source": [
    "# Discriminator model\n",
    "def build_discriminator():\n",
    "    model = tf.keras.Sequential([\n",
    "        layers.InputLayer(input_shape=(64, 64, 3)),\n",
    "        layers.Conv2D(64, kernel_size=4, strides=2, padding=\"same\"),\n",
    "        layers.LeakyReLU(alpha=0.2),\n",
    "        layers.Conv2D(128, kernel_size=4, strides=2, padding=\"same\"),\n",
    "        layers.BatchNormalization(),\n",
    "        layers.LeakyReLU(alpha=0.2),\n",
    "        layers.Conv2D(256, kernel_size=4, strides=2, padding=\"same\"),\n",
    "        layers.BatchNormalization(),\n",
    "        layers.LeakyReLU(alpha=0.2),\n",
    "        layers.Conv2D(512, kernel_size=4, strides=2, padding=\"same\"),\n",
    "        layers.BatchNormalization(),\n",
    "        layers.LeakyReLU(alpha=0.2),\n",
    "        layers.Flatten(),\n",
    "        layers.Dropout(0.2),\n",
    "        layers.Dense(1)\n",
    "    ])\n",
    "    return model"
   ]
  },
  {
   "cell_type": "code",
   "execution_count": null,
   "id": "ca839a0d",
   "metadata": {},
   "outputs": [],
   "source": [
    "# Loss functions\n",
    "def discriminator_loss(real_output, fake_output):\n",
    "    return tf.reduce_mean(fake_output) - tf.reduce_mean(real_output)\n",
    "\n",
    "def generator_loss(fake_output):\n",
    "    return -tf.reduce_mean(fake_output)\n",
    "\n",
    "# Optimizers\n",
    "generator_optimizer = tf.keras.optimizers.Adam(2e-4, beta_1=0.5)\n",
    "discriminator_optimizer = tf.keras.optimizers.Adam(2e-4, beta_1=0.5)\n",
    "\n",
    "# Training step\n",
    "@tf.function\n",
    "def train_step(images, batch_size):\n",
    "    noise_dim = 512\n",
    "    noise = tf.random.normal([batch_size, noise_dim])\n",
    "    with tf.GradientTape() as gen_tape, tf.GradientTape() as disc_tape:\n",
    "        generated_images = generator([noise, tf.random.normal([batch_size, 4, 4, 1])], training=True)\n",
    "        real_output = discriminator(images, training=True)\n",
    "        fake_output = discriminator(generated_images, training=True)\n",
    "        gen_loss = generator_loss(fake_output)\n",
    "        disc_loss = discriminator_loss(real_output, fake_output)\n",
    "    gradients_of_generator = gen_tape.gradient(gen_loss, generator.trainable_variables)\n",
    "    gradients_of_discriminator = disc_tape.gradient(disc_loss, discriminator.trainable_variables)\n",
    "    generator_optimizer.apply_gradients(zip(gradients_of_generator, generator.trainable_variables))\n",
    "    discriminator_optimizer.apply_gradients(zip(gradients_of_discriminator, discriminator.trainable_variables))\n",
    "\n",
    "# Training loop\n",
    "def train(dataset, epochs, batch_size):\n",
    "    for epoch in range(epochs):\n",
    "        for image_batch in dataset:\n",
    "            train_step(image_batch, batch_size)\n",
    "\n",
    "# Create models\n",
    "generator = build_generator()\n",
    "discriminator = build_discriminator()"
   ]
  },
  {
   "cell_type": "code",
   "execution_count": null,
   "id": "afbd7fc4",
   "metadata": {},
   "outputs": [],
   "source": [
    "# Print summaries\n",
    "print(\"Generator summary:\")\n",
    "generator.summary()"
   ]
  },
  {
   "cell_type": "code",
   "execution_count": null,
   "id": "4c014deb",
   "metadata": {},
   "outputs": [],
   "source": [
    "print(\"\\nDiscriminator summary:\")\n",
    "discriminator.summary()"
   ]
  },
  {
   "cell_type": "code",
   "execution_count": null,
   "id": "e3a26f2c",
   "metadata": {},
   "outputs": [],
   "source": []
  },
  {
   "cell_type": "code",
   "execution_count": null,
   "id": "36c1eccd",
   "metadata": {},
   "outputs": [],
   "source": []
  }
 ],
 "metadata": {
  "kernelspec": {
   "display_name": "tensorflow",
   "language": "python",
   "name": "tensorflow"
  },
  "language_info": {
   "codemirror_mode": {
    "name": "ipython",
    "version": 3
   },
   "file_extension": ".py",
   "mimetype": "text/x-python",
   "name": "python",
   "nbconvert_exporter": "python",
   "pygments_lexer": "ipython3",
   "version": "3.11.2"
  },
  "toc": {
   "base_numbering": 1,
   "nav_menu": {},
   "number_sections": true,
   "sideBar": true,
   "skip_h1_title": false,
   "title_cell": "Table of Contents",
   "title_sidebar": "Contents",
   "toc_cell": false,
   "toc_position": {},
   "toc_section_display": true,
   "toc_window_display": false
  }
 },
 "nbformat": 4,
 "nbformat_minor": 5
}
